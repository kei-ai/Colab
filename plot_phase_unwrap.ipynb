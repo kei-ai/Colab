{
  "nbformat": 4,
  "nbformat_minor": 0,
  "metadata": {
    "kernelspec": {
      "display_name": "Python 3",
      "language": "python",
      "name": "python3"
    },
    "language_info": {
      "codemirror_mode": {
        "name": "ipython",
        "version": 3
      },
      "file_extension": ".py",
      "mimetype": "text/x-python",
      "name": "python",
      "nbconvert_exporter": "python",
      "pygments_lexer": "ipython3",
      "version": "3.7.11"
    },
    "colab": {
      "name": "plot_phase_unwrap.ipynb",
      "provenance": [],
      "include_colab_link": true
    }
  },
  "cells": [
    {
      "cell_type": "markdown",
      "metadata": {
        "id": "view-in-github",
        "colab_type": "text"
      },
      "source": [
        "<a href=\"https://colab.research.google.com/github/kei-ai/Colab/blob/main/plot_phase_unwrap.ipynb\" target=\"_parent\"><img src=\"https://colab.research.google.com/assets/colab-badge.svg\" alt=\"Open In Colab\"/></a>"
      ]
    },
    {
      "cell_type": "code",
      "metadata": {
        "id": "ajXaDqPIM6M_"
      },
      "source": [
        "%matplotlib inline"
      ],
      "execution_count": null,
      "outputs": []
    },
    {
      "cell_type": "markdown",
      "metadata": {
        "id": "5MM1QFPfM6NC"
      },
      "source": [
        "\n",
        "# Phase Unwrapping\n",
        "\n",
        "Some signals can only be observed modulo 2*pi, and this can also apply to\n",
        "two- and three dimensional images. In these cases phase unwrapping is\n",
        "needed to recover the underlying, unwrapped signal. In this example we will\n",
        "demonstrate an algorithm [1]_ implemented in ``skimage`` at work for such a\n",
        "problem. One-, two- and three dimensional images can all be unwrapped using\n",
        "skimage. Here we will demonstrate phase unwrapping in the two dimensional case.\n"
      ]
    },
    {
      "cell_type": "code",
      "metadata": {
        "id": "EFfryGmqM6ND"
      },
      "source": [
        "import numpy as np\n",
        "from matplotlib import pyplot as plt\n",
        "from skimage import data, img_as_float, color, exposure\n",
        "from skimage.restoration import unwrap_phase\n",
        "\n",
        "\n",
        "# Load an image as a floating-point grayscale\n",
        "image = color.rgb2gray(img_as_float(data.chelsea()))\n",
        "# Scale the image to [0, 4*pi]\n",
        "image = exposure.rescale_intensity(image, out_range=(0, 4 * np.pi))\n",
        "# Create a phase-wrapped image in the interval [-pi, pi)\n",
        "image_wrapped = np.angle(np.exp(1j * image))\n",
        "# Perform phase unwrapping\n",
        "image_unwrapped = unwrap_phase(image_wrapped)\n",
        "\n",
        "fig, ax = plt.subplots(2, 2, sharex=True, sharey=True)\n",
        "ax1, ax2, ax3, ax4 = ax.ravel()\n",
        "\n",
        "fig.colorbar(ax1.imshow(image, cmap='gray', vmin=0, vmax=4 * np.pi), ax=ax1)\n",
        "ax1.set_title('Original')\n",
        "\n",
        "fig.colorbar(ax2.imshow(image_wrapped, cmap='gray', vmin=-np.pi, vmax=np.pi),\n",
        "             ax=ax2)\n",
        "ax2.set_title('Wrapped phase')\n",
        "\n",
        "fig.colorbar(ax3.imshow(image_unwrapped, cmap='gray'), ax=ax3)\n",
        "ax3.set_title('After phase unwrapping')\n",
        "\n",
        "fig.colorbar(ax4.imshow(image_unwrapped - image, cmap='gray'), ax=ax4)\n",
        "ax4.set_title('Unwrapped minus original')"
      ],
      "execution_count": null,
      "outputs": []
    },
    {
      "cell_type": "markdown",
      "metadata": {
        "id": "MsnVKuI9M6NE"
      },
      "source": [
        "The unwrapping procedure accepts masked arrays, and can also optionally\n",
        "assume cyclic boundaries to connect edges of an image. In the example below,\n",
        "we study a simple phase ramp which has been split in two by masking\n",
        "a row of the image.\n",
        "\n"
      ]
    },
    {
      "cell_type": "code",
      "metadata": {
        "id": "52pDgmocM6NE"
      },
      "source": [
        "# Create a simple ramp\n",
        "image = np.ones((100, 100)) * np.linspace(0, 8 * np.pi, 100).reshape((-1, 1))\n",
        "# Mask the image to split it in two horizontally\n",
        "mask = np.zeros_like(image, dtype=bool)\n",
        "mask[image.shape[0] // 2, :] = True\n",
        "\n",
        "image_wrapped = np.ma.array(np.angle(np.exp(1j * image)), mask=mask)\n",
        "# Unwrap image without wrap around\n",
        "image_unwrapped_no_wrap_around = unwrap_phase(image_wrapped,\n",
        "                                              wrap_around=(False, False))\n",
        "# Unwrap with wrap around enabled for the 0th dimension\n",
        "image_unwrapped_wrap_around = unwrap_phase(image_wrapped,\n",
        "                                           wrap_around=(True, False))\n",
        "\n",
        "fig, ax = plt.subplots(2, 2)\n",
        "ax1, ax2, ax3, ax4 = ax.ravel()\n",
        "\n",
        "fig.colorbar(ax1.imshow(np.ma.array(image, mask=mask), cmap='rainbow'), ax=ax1)\n",
        "ax1.set_title('Original')\n",
        "\n",
        "fig.colorbar(ax2.imshow(image_wrapped, cmap='rainbow', vmin=-np.pi, vmax=np.pi),\n",
        "             ax=ax2)\n",
        "ax2.set_title('Wrapped phase')\n",
        "\n",
        "fig.colorbar(ax3.imshow(image_unwrapped_no_wrap_around, cmap='rainbow'),\n",
        "             ax=ax3)\n",
        "ax3.set_title('Unwrapped without wrap_around')\n",
        "\n",
        "fig.colorbar(ax4.imshow(image_unwrapped_wrap_around, cmap='rainbow'), ax=ax4)\n",
        "ax4.set_title('Unwrapped with wrap_around')\n",
        "\n",
        "plt.tight_layout()\n",
        "plt.show()"
      ],
      "execution_count": null,
      "outputs": []
    },
    {
      "cell_type": "markdown",
      "metadata": {
        "id": "dPJ8KB3-M6NF"
      },
      "source": [
        "In the figures above, the masked row can be seen as a white line across\n",
        "the image. The difference between the two unwrapped images in the bottom row\n",
        "is clear: Without unwrapping (lower left), the regions above and below the\n",
        "masked boundary do not interact at all, resulting in an offset between the\n",
        "two regions of an arbitrary integer times two pi. We could just as well have\n",
        "unwrapped the regions as two separate images. With wrap around enabled for the\n",
        "vertical direction (lower right), the situation changes: Unwrapping paths are\n",
        "now allowed to pass from the bottom to the top of the image and vice versa, in\n",
        "effect providing a way to determine the offset between the two regions.\n",
        "\n",
        "## References\n",
        "\n",
        ".. [1] Miguel Arevallilo Herraez, David R. Burton, Michael J. Lalor,\n",
        "       and Munther A. Gdeisat, \"Fast two-dimensional phase-unwrapping\n",
        "       algorithm based on sorting by reliability following a noncontinuous\n",
        "       path\", Journal Applied Optics, Vol. 41, No. 35, pp. 7437, 2002\n",
        "\n"
      ]
    }
  ]
}